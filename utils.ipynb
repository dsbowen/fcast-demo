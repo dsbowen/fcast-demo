{
 "cells": [
  {
   "cell_type": "code",
   "execution_count": 18,
   "metadata": {},
   "outputs": [],
   "source": [
    "import matplotlib.pyplot as plt\n",
    "import numpy as np\n",
    "from scipy.stats import norm, uniform\n",
    "from smoother import MaxEntropy\n",
    "\n",
    "import math"
   ]
  },
  {
   "cell_type": "code",
   "execution_count": 19,
   "metadata": {},
   "outputs": [
    {
     "name": "stderr",
     "output_type": "stream",
     "text": [
      "c:\\users\\dbspe\\smoother\\smoother\\max_entropy.py:70: RuntimeWarning: overflow encountered in exp\n",
      "  sum([param*f(x) for param, f in zip(params, self._moment_funcs)])\n",
      "C:\\Users\\DBSpe\\studies\\fcast-demo\\hemlock-venv\\lib\\site-packages\\scipy\\optimize\\_numdiff.py:497: RuntimeWarning: invalid value encountered in subtract\n",
      "  df = fun(x) - f0\n",
      "c:\\users\\dbspe\\smoother\\smoother\\max_entropy.py:70: RuntimeWarning: overflow encountered in exp\n",
      "  sum([param*f(x) for param, f in zip(params, self._moment_funcs)])\n",
      "c:\\users\\dbspe\\smoother\\smoother\\max_entropy.py:70: RuntimeWarning: overflow encountered in exp\n",
      "  sum([param*f(x) for param, f in zip(params, self._moment_funcs)])\n",
      "C:\\Users\\DBSpe\\studies\\fcast-demo\\hemlock-venv\\lib\\site-packages\\scipy\\optimize\\_numdiff.py:497: RuntimeWarning: invalid value encountered in subtract\n",
      "  df = fun(x) - f0\n",
      "c:\\users\\dbspe\\smoother\\smoother\\max_entropy.py:70: RuntimeWarning: overflow encountered in exp\n",
      "  sum([param*f(x) for param, f in zip(params, self._moment_funcs)])\n"
     ]
    },
    {
     "data": {
      "text/plain": [
       "[<matplotlib.lines.Line2D at 0x132854f0>]"
      ]
     },
     "execution_count": 19,
     "metadata": {},
     "output_type": "execute_result"
    },
    {
     "data": {
      "image/png": "[encoded data removed]",
      "text/plain": [
       "<Figure size 432x288 with 1 Axes>"
      ]
     },
     "metadata": {
      "needs_background": "light"
     },
     "output_type": "display_data"
    }
   ],
   "source": [
    "class Demand(MaxEntropy):\n",
    "    def __init__(self, const=0, a=0, b=0, p=0, sigma=1, season=[]):\n",
    "        self.const = const\n",
    "        self.a = a\n",
    "        self.b = b\n",
    "        self.p = p\n",
    "        self.sigma = sigma\n",
    "        self.season = season\n",
    "        \n",
    "    def fit(self, x_t, t):\n",
    "        mu = (\n",
    "            self.const\n",
    "            + self.b*(t+1) # time trend\n",
    "            + self.p*(x_t-self.const) # serial correlation\n",
    "            + (0 if not self.season else self.season[(t+1)%len(self.season)]) # seasonality\n",
    "        )\n",
    "        sigma = self.sigma + self.a*x_t # heteroskedastic error\n",
    "        moment_funcs = [lambda x: x, lambda x: (x-mu)**2]\n",
    "        values = [mu, sigma**2]\n",
    "        return super().fit(0, mu+2.58*sigma, moment_funcs, values)\n",
    "        \n",
    "    \n",
    "demand = Demand(10, p=.7, a=.1, b=.2, sigma=0, season=2*list(range(10)))\n",
    "x_t = 10\n",
    "x = [x_t]\n",
    "for t in range(30):\n",
    "    x_t = demand.fit(x_t, t).rvs()\n",
    "    x.append(x_t)\n",
    "plt.plot(x)"
   ]
  },
  {
   "cell_type": "code",
   "execution_count": 20,
   "metadata": {},
   "outputs": [
    {
     "name": "stdout",
     "output_type": "stream",
     "text": [
      "mean 39.43489206143039\n"
     ]
    },
    {
     "data": {
      "text/plain": [
       "[<matplotlib.lines.Line2D at 0xf8a310>]"
      ]
     },
     "execution_count": 20,
     "metadata": {},
     "output_type": "execute_result"
    },
    {
     "data": {
      "image/png": "[encoded data removed]",
      "text/plain": [
       "<Figure size 432x288 with 1 Axes>"
      ]
     },
     "metadata": {
      "needs_background": "light"
     },
     "output_type": "display_data"
    }
   ],
   "source": [
    "demand.fit(x[-1], len(x))\n",
    "print('mean', demand.mean())\n",
    "plt.plot(demand.x, demand.f_x)"
   ]
  },
  {
   "cell_type": "code",
   "execution_count": 21,
   "metadata": {},
   "outputs": [],
   "source": [
    "def compute_exp_profit(demand, supply, price, cost, size=1000):\n",
    "    x = demand.rvs(size=size)\n",
    "    purchased = np.clip(x, 0, supply)\n",
    "    return price*purchased.mean() - cost*supply    \n",
    "\n",
    "def maximize(demand, price, cost, tol=.01, maxiter=100, size=1000):\n",
    "    def compute_exp_profit(q):\n",
    "        supply = demand.ppf(q)\n",
    "        purchased = np.clip(x, 0, supply)\n",
    "        return supply, price*purchased.mean() - cost*supply\n",
    "        \n",
    "    x = demand.rvs(size=size)\n",
    "    opt_supply, max_exp_profit = 0, 0\n",
    "    q, step = 0, 1\n",
    "    for i in range(maxiter):\n",
    "        supply, exp_profit = compute_exp_profit(q)\n",
    "        delta = exp_profit - max_exp_profit\n",
    "        if delta >= 0:\n",
    "            opt_supply = supply\n",
    "            max_exp_profit = exp_profit\n",
    "        step /= 2\n",
    "        q += step if delta>=0 else -step\n",
    "        if i>0 and abs(delta) < tol:\n",
    "            break\n",
    "    return opt_supply, max_exp_profit"
   ]
  },
  {
   "cell_type": "code",
   "execution_count": 23,
   "metadata": {},
   "outputs": [
    {
     "data": {
      "text/plain": [
       "(43.01822815734764, 2650.792849540181)"
      ]
     },
     "execution_count": 23,
     "metadata": {},
     "output_type": "execute_result"
    }
   ],
   "source": [
    "maximize(demand, 100, 30)"
   ]
  },
  {
   "cell_type": "code",
   "execution_count": 17,
   "metadata": {},
   "outputs": [
    {
     "data": {
      "text/plain": [
       "1.0087609940066418"
      ]
     },
     "execution_count": 17,
     "metadata": {},
     "output_type": "execute_result"
    }
   ],
   "source": [
    "def compute_profit_index(demand, forecast, target, baseline, price, cost, size=1000):\n",
    "    def compute_exp_profit(dist):\n",
    "        supply, _ = maximize(dist, price, cost)\n",
    "        purchased = np.clip(x, 0, supply)\n",
    "        return price*purchased.mean() - cost*supply\n",
    "    \n",
    "    x = demand.rvs(size=size)\n",
    "    fcast_profit = compute_exp_profit(forecast)\n",
    "    target_profit = compute_exp_profit(target)\n",
    "    base_profit = compute_exp_profit(baseline)\n",
    "    return (fcast_profit - base_profit) / (target_profit - base_profit)    \n",
    "\n",
    "price, cost = 5, 1\n",
    "demand.fit(25, 10)\n",
    "baseline = uniform(demand.ppf(.01), demand.ppf(.99))\n",
    "compute_profit_index(demand, demand, demand, baseline, price, cost)"
   ]
  },
  {
   "cell_type": "code",
   "execution_count": null,
   "metadata": {},
   "outputs": [],
   "source": []
  }
 ],
 "metadata": {
  "kernelspec": {
   "display_name": "fcast-demo",
   "language": "python",
   "name": "fcast-demo"
  },
  "language_info": {
   "codemirror_mode": {
    "name": "ipython",
    "version": 3
   },
   "file_extension": ".py",
   "mimetype": "text/x-python",
   "name": "python",
   "nbconvert_exporter": "python",
   "pygments_lexer": "ipython3",
   "version": "3.6.8"
  }
 },
 "nbformat": 4,
 "nbformat_minor": 4
}
